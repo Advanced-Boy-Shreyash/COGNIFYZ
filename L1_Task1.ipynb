{
 "cells": [
  {
   "cell_type": "raw",
   "id": "b75c1b85",
   "metadata": {},
   "source": [
    "Level 1 Task 1 : String Reversal"
   ]
  },
  {
   "cell_type": "code",
   "execution_count": null,
   "id": "501319cf",
   "metadata": {
    "vscode": {
     "languageId": "python"
    }
   },
   "outputs": [],
   "source": [
    "# String Reversal\n",
    "str=input(\"Enter the String you want to Reverse :\")\n",
    "rev_str=str[::-1]\n",
    "print(f\"Reverse of String is :'{rev_str}'\")"
   ]
  }
 ],
 "metadata": {
  "kernelspec": {
   "display_name": "Python 3 (ipykernel)",
   "language": "python",
   "name": "python3"
  }
 },
 "nbformat": 4,
 "nbformat_minor": 5
}
