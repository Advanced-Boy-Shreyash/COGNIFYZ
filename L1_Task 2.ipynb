{
 "cells": [
  {
   "cell_type": "raw",
   "id": "0fdc9062",
   "metadata": {},
   "source": [
    "Level 1 -> Task 2 : Temperature Conversion"
   ]
  },
  {
   "cell_type": "code",
   "execution_count": null,
   "id": "b858df99",
   "metadata": {
    "vscode": {
     "languageId": "python"
    }
   },
   "outputs": [],
   "source": [
    "temp_value = float(input(\"Enter Value of Temperature :\"))\n",
    "unit = input(\"Enter Unit of Temperature : \")\n",
    "\n",
    "if unit == 'c' or unit == 'C':\n",
    "    f = (temp_value*9/5)+32\n",
    "    print(\"You have entered value in °C\")\n",
    "    print(f\"It's Fahrenheit value is : {f}\")\n",
    "    \n",
    "elif unit == 'f' or unit == 'F':\n",
    "    C = 5/9*(temp_value-32)\n",
    "    print(\"You have entered value in °F\")\n",
    "    print(f\"It's Celcius value is : {C}\")\n",
    "    \n",
    "else:\n",
    "    print(\"Invlid Unit! \\n Please retry by using 'C' for Celcius or 'F' for Fahrenheit\")"
   ]
  }
 ],
 "metadata": {
  "kernelspec": {
   "display_name": "Python 3 (ipykernel)",
   "language": "python",
   "name": "python3"
  }
 },
 "nbformat": 4,
 "nbformat_minor": 5
}
