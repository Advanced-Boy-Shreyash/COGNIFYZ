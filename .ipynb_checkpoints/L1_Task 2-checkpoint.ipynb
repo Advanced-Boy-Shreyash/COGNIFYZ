{
 "cells": [
  {
   "cell_type": "raw",
   "id": "0fdc9062",
   "metadata": {},
   "source": [
    "Level 1 -> Task 2 : Temperature Conversion"
   ]
  },
  {
   "cell_type": "code",
   "execution_count": 2,
   "id": "b858df99",
   "metadata": {},
   "outputs": [
    {
     "name": "stdout",
     "output_type": "stream",
     "text": [
      "Enter Value of Temperature :45\n",
      "Enter Unit of Temperaturec\n",
      "You have entered value in °C\n",
      "It's Fahrenheit value is : 7.222222222222222\n"
     ]
    }
   ],
   "source": [
    "temp_value = float(input(\"Enter Value of Temperature :\"))\n",
    "unit = input(\"Enter Unit of Temperature : \")\n",
    "if unit == 'c' or 'C':\n",
    "    f=(temp_value*9/5)+32\n",
    "    print(\"You have entered value in °C\")\n",
    "    print(f\"It's Fahrenheit value is : {fahrenheit}\")\n",
    "elif unit == 'f' or 'F':\n",
    "    celcius = (temp_value * 9/5) + 32\n",
    "    print(\"You have entered value in °F\")\n",
    "    print(f\"It's Celcius value is : {celcius}\")\n",
    "else:\n",
    "    print(\"Invlid Unit! \\n Please retry by using 'C' for Celcius or 'F' for Fahrenheit\")"
   ]
  },
  {
   "cell_type": "code",
   "execution_count": null,
   "id": "eb758b10",
   "metadata": {},
   "outputs": [],
   "source": []
  }
 ],
 "metadata": {
  "kernelspec": {
   "display_name": "Python 3 (ipykernel)",
   "language": "python",
   "name": "python3"
  },
  "language_info": {
   "codemirror_mode": {
    "name": "ipython",
    "version": 3
   },
   "file_extension": ".py",
   "mimetype": "text/x-python",
   "name": "python",
   "nbconvert_exporter": "python",
   "pygments_lexer": "ipython3",
   "version": "3.11.3"
  }
 },
 "nbformat": 4,
 "nbformat_minor": 5
}
