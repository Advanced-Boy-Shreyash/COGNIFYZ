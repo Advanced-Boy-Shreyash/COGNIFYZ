{
 "cells": [
  {
   "cell_type": "raw",
   "metadata": {},
   "source": [
    "Level 2 Task 1 : Guessing Game"
   ]
  },
  {
   "cell_type": "code",
   "execution_count": 1,
   "metadata": {},
   "outputs": [],
   "source": [
    "import random"
   ]
  },
  {
   "cell_type": "code",
   "execution_count": null,
   "metadata": {},
   "outputs": [
    {
     "name": "stdout",
     "output_type": "stream",
     "text": [
      "Guess the No. :50\n",
      "To Low\n",
      "Guess the No. :60\n",
      "To Low\n",
      "Guess the No. :70\n",
      "To Low\n",
      "Guess the No. :80\n",
      "To Low\n",
      "Guess the No. :90\n",
      "Too High\n",
      "Guess the No. :85\n",
      "Too High\n",
      "Guess the No. :82\n",
      "Hooray! Your Guess is Correct\n"
     ]
    }
   ],
   "source": [
    "choice = random.randint(1, 100)\n",
    "count = 0\n",
    "\n",
    "while count < 10:\n",
    "\n",
    "    guess_no = int(input(\"Guess the No. :\"))\n",
    "\n",
    "    if guess_no > choice:\n",
    "        print(\"Too High\")\n",
    "\n",
    "    elif guess_no < choice:\n",
    "        print(\"To Low\")\n",
    "\n",
    "    else:\n",
    "        print(\"Hooray! Your Guess is Correct\")\n",
    "        break\n",
    "    count += 1\n",
    "\n",
    "if count > 10:\n",
    "    print(f\"The no is{choice}\")\n",
    "    print(\"You can try again!\")"
   ]
  }
 ],
 "metadata": {
  "kernelspec": {
   "display_name": "Python 3 (ipykernel)",
   "language": "python",
   "name": "python3"
  },
  "language_info": {
   "codemirror_mode": {
    "name": "ipython",
    "version": 3
   },
   "file_extension": ".py",
   "mimetype": "text/x-python",
   "name": "python",
   "nbconvert_exporter": "python",
   "pygments_lexer": "ipython3",
   "version": "3.11.3"
  }
 },
 "nbformat": 4,
 "nbformat_minor": 2
}
