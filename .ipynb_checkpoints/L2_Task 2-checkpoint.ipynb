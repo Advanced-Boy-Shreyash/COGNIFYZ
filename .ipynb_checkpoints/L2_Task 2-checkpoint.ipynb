{
 "cells": [
  {
   "cell_type": "raw",
   "id": "3e14c6f2",
   "metadata": {},
   "source": [
    "Level 2 Task 2 : Number Guesser"
   ]
  },
  {
   "cell_type": "code",
   "execution_count": 1,
   "id": "085edc75",
   "metadata": {},
   "outputs": [],
   "source": [
    "import random"
   ]
  },
  {
   "cell_type": "code",
   "execution_count": 2,
   "id": "4194ee77",
   "metadata": {},
   "outputs": [
    {
     "name": "stdout",
     "output_type": "stream",
     "text": [
      "Guess the No. :50\n",
      "Guess the No. :4\n",
      "Guess the No. :5456\n",
      "Guess the No. :54456\n",
      "Guess the No. :45653\n",
      "Guess the No. :758\n",
      "Guess the No. :445\n",
      "Guess the No. :778\n",
      "Guess the No. :745\n",
      "Guess the No. :787\n"
     ]
    }
   ],
   "source": [
    "choice = random.randint(1, 1000)\n",
    "count = 0\n",
    "\n",
    "while count < 10:\n",
    "\n",
    "    guess_no = int(input(\"Guess the No. :\"))\n",
    "\n",
    "    if guess_no == choice:\n",
    "        print(\"Hooray! Your Guess is Correct\")\n",
    "        break\n",
    "\n",
    "    elif guess_no < choice:\n",
    "        print(\"To Low\")\n",
    "\n",
    "    else:\n",
    "        print(\"Too High\")\n",
    "        \n",
    "    count += 1\n",
    "\n",
    "if count > 10:\n",
    "    print(f\"The no is {choice}\")\n",
    "    print(\"You can try again!\")"
   ]
  }
 ],
 "metadata": {
  "kernelspec": {
   "display_name": "Python 3 (ipykernel)",
   "language": "python",
   "name": "python3"
  },
  "language_info": {
   "codemirror_mode": {
    "name": "ipython",
    "version": 3
   },
   "file_extension": ".py",
   "mimetype": "text/x-python",
   "name": "python",
   "nbconvert_exporter": "python",
   "pygments_lexer": "ipython3",
   "version": "3.11.3"
  }
 },
 "nbformat": 4,
 "nbformat_minor": 5
}
