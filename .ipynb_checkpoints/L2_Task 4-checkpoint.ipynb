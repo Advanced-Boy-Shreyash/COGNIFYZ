{
 "cells": [
  {
   "cell_type": "raw",
   "id": "df90dac3",
   "metadata": {},
   "source": [
    "Level 2 Task 4 : Fibonacci Sequence"
   ]
  },
  {
   "cell_type": "code",
   "execution_count": 4,
   "id": "2729e640",
   "metadata": {},
   "outputs": [
    {
     "name": "stdout",
     "output_type": "stream",
     "text": [
      "Give a no. upto which fibonacci series is generated :10\n",
      "0 1 1 2 3 5 8 13 21 34 "
     ]
    }
   ],
   "source": [
    "def Fibonacci(n):\n",
    "    if n<0:\n",
    "        return 0\n",
    "    \n",
    "    num1 = 0\n",
    "    num2 = 1\n",
    "    nxt = 0\n",
    "    c = 1\n",
    "\n",
    "    while (c <= n):\n",
    "        print(nxt, end=\" \")\n",
    "        c += 1\n",
    "        num1 = num2\n",
    "        num2 = nxt\n",
    "        nxt = num1 + num2\n",
    "\n",
    "\n",
    "n = int(input(\"Give a no. upto which fibonacci series is generated :\"))\n",
    "Fibonacci(n)"
   ]
  }
 ],
 "metadata": {
  "kernelspec": {
   "display_name": "Python 3 (ipykernel)",
   "language": "python",
   "name": "python3"
  },
  "language_info": {
   "codemirror_mode": {
    "name": "ipython",
    "version": 3
   },
   "file_extension": ".py",
   "mimetype": "text/x-python",
   "name": "python",
   "nbconvert_exporter": "python",
   "pygments_lexer": "ipython3",
   "version": "3.11.3"
  }
 },
 "nbformat": 4,
 "nbformat_minor": 5
}
