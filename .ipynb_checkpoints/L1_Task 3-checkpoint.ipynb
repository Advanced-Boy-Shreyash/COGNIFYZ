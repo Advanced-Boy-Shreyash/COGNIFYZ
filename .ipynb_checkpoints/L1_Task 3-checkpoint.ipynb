{
 "cells": [
  {
   "cell_type": "raw",
   "id": "83beefea",
   "metadata": {},
   "source": [
    "Level 1 -> Task 3 : Email Validator"
   ]
  },
  {
   "cell_type": "code",
   "execution_count": 1,
   "id": "d09f691d",
   "metadata": {},
   "outputs": [],
   "source": [
    "import re\n",
    "\n",
    "\n",
    "def email_validator(email):\n",
    "    if re.match(r\"[^@]+@[^@]+\\.[^@]+\", email):\n",
    "        return \"Valid email address\"\n",
    "    else:\n",
    "        return \"Invalid email address\""
   ]
  },
  {
   "cell_type": "code",
   "execution_count": 2,
   "id": "0f796539",
   "metadata": {},
   "outputs": [
    {
     "name": "stdout",
     "output_type": "stream",
     "text": [
      "Email1 is : Valid email address\n",
      "Email2 is : Invalid email address\n"
     ]
    }
   ],
   "source": [
    "email1 = \"cognifyz@domain.com\"\n",
    "email2 = \"cognifyz@domaincom\"\n",
    "print(\"Email1 is :\", email_validator(email1))\n",
    "print(\"Email2 is :\", email_validator(email2))"
   ]
  },
  {
   "cell_type": "code",
   "execution_count": null,
   "id": "834768dc",
   "metadata": {},
   "outputs": [],
   "source": [
    "# Email as an input\n",
    "email = input(\"Enter Email Here : \")\n",
    "email_validator(email)"
   ]
  }
 ],
 "metadata": {
  "kernelspec": {
   "display_name": "Python 3 (ipykernel)",
   "language": "python",
   "name": "python3"
  },
  "language_info": {
   "codemirror_mode": {
    "name": "ipython",
    "version": 3
   },
   "file_extension": ".py",
   "mimetype": "text/x-python",
   "name": "python",
   "nbconvert_exporter": "python",
   "pygments_lexer": "ipython3",
   "version": "3.11.3"
  }
 },
 "nbformat": 4,
 "nbformat_minor": 5
}
