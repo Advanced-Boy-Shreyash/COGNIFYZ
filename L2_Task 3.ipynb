{
 "cells": [
  {
   "cell_type": "raw",
   "id": "5616daf1",
   "metadata": {},
   "source": [
    "Level 2 Task 3 : Password Strength Checker"
   ]
  },
  {
   "cell_type": "code",
   "execution_count": 1,
   "id": "0784aaa4",
   "metadata": {
    "vscode": {
     "languageId": "python"
    }
   },
   "outputs": [],
   "source": [
    "import re"
   ]
  },
  {
   "cell_type": "code",
   "execution_count": 2,
   "id": "e7884ebb",
   "metadata": {
    "vscode": {
     "languageId": "python"
    }
   },
   "outputs": [
    {
     "name": "stdout",
     "output_type": "stream",
     "text": [
      "Input your password: Code@134\n",
      "Password is Strong\n"
     ]
    }
   ],
   "source": [
    "def Password_Strength_Checker(password):\n",
    "    not_strong = \"Password is not strong\"\n",
    "    strong = \"Password is Strong\"\n",
    "\n",
    "    if len(password) < 8:\n",
    "        return not_strong\n",
    "\n",
    "    if not re.search(r'\\d', password):\n",
    "        return not_strong\n",
    "    \n",
    "    if not re.search(r'[0-9]', password):\n",
    "        return not_strong\n",
    "        \n",
    "    if not re.search(r'[A-Z]', password):\n",
    "        return not_strong\n",
    "\n",
    "    if not re.search(r'[a-z]', password):\n",
    "        return not_strong\n",
    "\n",
    "\n",
    "    if not re.search(r'[!@#$%^&*(),.?\":{}|<>]', password):\n",
    "        return not_strong\n",
    "\n",
    "    return strong\n",
    "\n",
    "\n",
    "password = input(\"Input your password: \")\n",
    "print(Password_Strength_Checker(password))"
   ]
  }
 ],
 "metadata": {
  "kernelspec": {
   "display_name": "Python 3 (ipykernel)",
   "language": "python",
   "name": "python3"
  },
  "language_info": {
   "codemirror_mode": {
    "name": "ipython",
    "version": 3
   },
   "file_extension": ".py",
   "mimetype": "text/x-python",
   "name": "python",
   "nbconvert_exporter": "python",
   "pygments_lexer": "ipython3",
   "version": "3.11.3"
  }
 },
 "nbformat": 4,
 "nbformat_minor": 5
}
