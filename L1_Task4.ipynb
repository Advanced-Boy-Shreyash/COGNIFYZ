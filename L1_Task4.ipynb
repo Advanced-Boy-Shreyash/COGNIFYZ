{
 "cells": [
  {
   "cell_type": "raw",
   "metadata": {},
   "source": [
    "Level 1 -> Task 4 : Calculator Program"
   ]
  },
  {
   "cell_type": "code",
   "execution_count": null,
   "metadata": {},
   "outputs": [],
   "source": [
    "print(\"------------ Welcome to Calculator ----------\")\n",
    "\n",
    "num1 = float(input(\"Enter First no. : \"))\n",
    "num2 = float(input(\"Enter Second no. : \"))\n",
    "\n",
    "op = input(\"Enter the Operator (+,-,*,/) : \")\n",
    "print(\"Result -> \")\n",
    "\n",
    "if num1 < num2:\n",
    "    match op:\n",
    "        case '+':\n",
    "            print(f\"Addition is : {num2+num1}\")\n",
    "        case '-':\n",
    "            print(f\"Substraction is : {num2-num1}\")\n",
    "        case '*':\n",
    "            print(f\"Multiplication is : {num2*num1}\")\n",
    "        case '/':\n",
    "            print(f\"Division is : {num2/num1}\")\n",
    "        case _:\n",
    "            print(\"Invalid Operator! \\nPlease enter Valid Operator\")\n",
    "\n",
    "elif num1 > num2:\n",
    "    match op:\n",
    "        case '+':\n",
    "            print(f\"Addition is : {num1+num2}\")\n",
    "        case '-':\n",
    "            print(f\"Substraction is : {num1-num2}\")\n",
    "        case '*':\n",
    "            print(f\"Multiplication is : {num1*num2}\")\n",
    "        case '/':\n",
    "            print(f\"Division is : {num1/num2}\")\n",
    "        case _:\n",
    "            print(\"Invalid Operator! \\nPlease enter Valid Operator\")\n",
    "            \n",
    "else:\n",
    "    print(\"Something Went Wrong\")\n"
   ]
  }
 ],
 "metadata": {
  "kernelspec": {
   "display_name": "Python 3 (ipykernel)",
   "language": "python",
   "name": "python3"
  },
  "language_info": {
   "codemirror_mode": {
    "name": "ipython",
    "version": 3
   },
   "file_extension": ".py",
   "mimetype": "text/x-python",
   "name": "python",
   "nbconvert_exporter": "python",
   "pygments_lexer": "ipython3",
   "version": "3.11.3"
  }
 },
 "nbformat": 4,
 "nbformat_minor": 2
}
