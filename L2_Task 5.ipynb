{
 "cells": [
  {
   "cell_type": "raw",
   "id": "afd7d52c",
   "metadata": {},
   "source": [
    "Level 2 Task 5 : File Manipulation"
   ]
  },
  {
   "cell_type": "code",
   "execution_count": 1,
   "id": "333c9805",
   "metadata": {},
   "outputs": [],
   "source": [
    "def count_occ(text):\n",
    "    count = dict()\n",
    "\n",
    "    for line in text:\n",
    "        line = line.strip()\n",
    "        line = line.lower()\n",
    "        words = line.split(\" \")\n",
    "\n",
    "        for word in words:\n",
    "            if word in count:\n",
    "                count[word] = count[word] + 1\n",
    "            else:\n",
    "                count[word] = 1\n",
    "\n",
    "    for key in list(count.keys()):\n",
    "        print(key, \":\", count[key])"
   ]
  },
  {
   "cell_type": "code",
   "execution_count": 2,
   "id": "912dfc21",
   "metadata": {},
   "outputs": [
    {
     "name": "stdout",
     "output_type": "stream",
     "text": [
      "python : 3\n",
      "java : 4\n",
      "c : 4\n",
      "c++ : 3\n",
      "ui : 2\n",
      "ux : 1\n",
      "dev : 4\n",
      "git : 3\n",
      "github : 1\n"
     ]
    }
   ],
   "source": [
    "with open (\"L2_Task5.txt\", \"r\") as file:\n",
    "    count_occ(file)"
   ]
  }
 ],
 "metadata": {
  "kernelspec": {
   "display_name": "Python 3 (ipykernel)",
   "language": "python",
   "name": "python3"
  },
  "language_info": {
   "codemirror_mode": {
    "name": "ipython",
    "version": 3
   },
   "file_extension": ".py",
   "mimetype": "text/x-python",
   "name": "python",
   "nbconvert_exporter": "python",
   "pygments_lexer": "ipython3",
   "version": "3.11.3"
  }
 },
 "nbformat": 4,
 "nbformat_minor": 5
}
