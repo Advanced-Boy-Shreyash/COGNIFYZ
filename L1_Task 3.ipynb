{
 "cells": [
  {
   "cell_type": "raw",
   "id": "83beefea",
   "metadata": {},
   "source": [
    "Level 1 -> Task 3 : Email Validator"
   ]
  },
  {
   "cell_type": "code",
   "execution_count": null,
   "id": "d09f691d",
   "metadata": {
    "vscode": {
     "languageId": "python"
    }
   },
   "outputs": [],
   "source": [
    "import re\n",
    "\n",
    "\n",
    "def email_validator(email):\n",
    "    if re.match(r\"[^@]+@[^@]+\\.[^@]+\", email):\n",
    "        return \"Valid email address\"\n",
    "    else:\n",
    "        return \"Invalid email address\""
   ]
  },
  {
   "cell_type": "code",
   "execution_count": null,
   "id": "0edc0a73",
   "metadata": {
    "vscode": {
     "languageId": "python"
    }
   },
   "outputs": [],
   "source": [
    "email1 = \"cognifyz@domain.com\"\n",
    "email2 = \"cognifyz@domaincom\"\n",
    "print(\"Email1 is :\", email_validator(email1))\n",
    "print(\"Email2 is :\", email_validator(email2))"
   ]
  },
  {
   "cell_type": "code",
   "execution_count": null,
   "id": "834768dc",
   "metadata": {
    "vscode": {
     "languageId": "python"
    }
   },
   "outputs": [],
   "source": [
    "# Email as an input\n",
    "email = input(\"Enter Email Here : \")\n",
    "email_validator(email)"
   ]
  }
 ],
 "metadata": {
  "kernelspec": {
   "display_name": "Python 3 (ipykernel)",
   "language": "python",
   "name": "python3"
  }
 },
 "nbformat": 4,
 "nbformat_minor": 5
}
